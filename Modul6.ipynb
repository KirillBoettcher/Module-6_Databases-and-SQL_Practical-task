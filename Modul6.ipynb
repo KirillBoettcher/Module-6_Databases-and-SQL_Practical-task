{
 "cells": [
  {
   "cell_type": "code",
   "execution_count": 1,
   "id": "c2904e98-55ec-4421-a577-fe75d18b71b2",
   "metadata": {
    "tags": []
   },
   "outputs": [],
   "source": [
    "import matplotlib.pyplot as plt\n",
    "import numpy as np\n",
    "import seaborn as sns\n",
    "import mysql.connector"
   ]
  },
  {
   "cell_type": "markdown",
   "id": "eab11f0b-8abe-4cfd-98b4-dbf046b320f4",
   "metadata": {},
   "source": [
    "Verbindung zur Datenbank / Подключение к базе данных"
   ]
  },
  {
   "cell_type": "code",
   "execution_count": 2,
   "id": "35188fd3-420c-4edc-b7f5-42d5976bd720",
   "metadata": {
    "tags": []
   },
   "outputs": [
    {
     "name": "stdout",
     "output_type": "stream",
     "text": [
      "<mysql.connector.connection_cext.CMySQLConnection object at 0x0000022CC02A1210>\n"
     ]
    }
   ],
   "source": [
    "mydb = mysql.connector.connect(\n",
    "    host = \"mysqle8c2.netcup.net\",\n",
    "    user = \"k207746_python_brunoyam\",\n",
    "    passwd  = \"python2023%\",\n",
    "    db = \"k207746_python_brunoyam\",\n",
    ")\n",
    "\n",
    "print(mydb)"
   ]
  },
  {
   "cell_type": "code",
   "execution_count": 3,
   "id": "f7ccf88a-a719-4867-b5dd-24ce798c095c",
   "metadata": {},
   "outputs": [],
   "source": [
    "cursor = mydb.cursor()"
   ]
  },
  {
   "cell_type": "markdown",
   "id": "3257278f-50ad-42a1-b6c8-3311924f187f",
   "metadata": {
    "tags": []
   },
   "source": [
    "Aufzeigen der vorhandenen Tabellen / Показ существующих таблиц"
   ]
  },
  {
   "cell_type": "code",
   "execution_count": 4,
   "id": "7afeb20b-bf10-44cb-adbb-c8f67393b19a",
   "metadata": {
    "tags": []
   },
   "outputs": [
    {
     "name": "stdout",
     "output_type": "stream",
     "text": [
      "CMySQLCursor: SHOW TABLES\n"
     ]
    }
   ],
   "source": [
    "cursor.execute(\"SHOW TABLES\")\n",
    "print(cursor)"
   ]
  },
  {
   "cell_type": "code",
   "execution_count": 5,
   "id": "212ed4b1-0ded-42cd-a315-5b5b44c91c95",
   "metadata": {
    "tags": []
   },
   "outputs": [
    {
     "name": "stdout",
     "output_type": "stream",
     "text": [
      "('courses',)\n",
      "('courses_students',)\n",
      "('locations',)\n",
      "('messages',)\n",
      "('students',)\n",
      "('teachers',)\n"
     ]
    }
   ],
   "source": [
    "for x in cursor:\n",
    "    print(x)"
   ]
  },
  {
   "cell_type": "markdown",
   "id": "3c7d34c8-d4aa-48f8-a79c-8091daf4f1c1",
   "metadata": {},
   "source": [
    "Anzahl der Kurse / Количество курсов"
   ]
  },
  {
   "cell_type": "code",
   "execution_count": 6,
   "id": "de8fe018-0b76-4a30-886c-452124b1be72",
   "metadata": {
    "tags": []
   },
   "outputs": [],
   "source": [
    "cursor.execute(\"SELECT count(*) FROM courses\")"
   ]
  },
  {
   "cell_type": "code",
   "execution_count": 7,
   "id": "deca879c-7c44-470e-aa27-bee542270fb6",
   "metadata": {
    "tags": []
   },
   "outputs": [
    {
     "name": "stdout",
     "output_type": "stream",
     "text": [
      "(52,)\n"
     ]
    }
   ],
   "source": [
    "for x in cursor:\n",
    "    print(x)"
   ]
  },
  {
   "cell_type": "markdown",
   "id": "6bff584c-f16f-43f7-9ff9-3054853a94f8",
   "metadata": {},
   "source": [
    "Auflisten der Kurse mit dem Titel Algorithmen /  Список курсов под названием «Алгоритмы»"
   ]
  },
  {
   "cell_type": "code",
   "execution_count": 8,
   "id": "7efd4208-1106-49c2-9ea3-7164f3276236",
   "metadata": {
    "tags": []
   },
   "outputs": [
    {
     "name": "stdout",
     "output_type": "stream",
     "text": [
      "CMySQLCursor: SELECT * FROM courses WHERE title = 'Alg..\n"
     ]
    }
   ],
   "source": [
    "cursor.execute( \"SELECT * FROM courses WHERE title = 'Algorithmen'\" )\n",
    "print(cursor)"
   ]
  },
  {
   "cell_type": "code",
   "execution_count": 9,
   "id": "6e30eb43-083b-41f3-a455-2c237b8e58b1",
   "metadata": {
    "tags": []
   },
   "outputs": [
    {
     "name": "stdout",
     "output_type": "stream",
     "text": [
      "(1, datetime.datetime(2016, 12, 8, 21, 4, 21), datetime.datetime(2016, 12, 8, 21, 4, 21), 'Algorithmen', 1, datetime.datetime(2017, 2, 28, 21, 4, 21), datetime.datetime(2017, 2, 28, 21, 4, 21), 3)\n"
     ]
    }
   ],
   "source": [
    "for x in cursor:\n",
    "    print(x)"
   ]
  },
  {
   "cell_type": "code",
   "execution_count": null,
   "id": "210a8cce-6717-45aa-ae6f-f6226049dd78",
   "metadata": {},
   "outputs": [],
   "source": []
  },
  {
   "cell_type": "markdown",
   "id": "5f292ae0-e84f-4749-a339-15b1d048ebe9",
   "metadata": {},
   "source": [
    "Aufschlüsseln der Vornamen wie oft die vorkommen in absteigender Reihnfolge / Разбивка имен и частота их появления в порядке убывания."
   ]
  },
  {
   "cell_type": "code",
   "execution_count": 10,
   "id": "73046c9f-d374-4d5d-9bcf-1bff18e2f51d",
   "metadata": {
    "tags": []
   },
   "outputs": [
    {
     "name": "stdout",
     "output_type": "stream",
     "text": [
      "CMySQLCursor:  SELECT firstname, COUNT(*) AS c FROM st..\n",
      "('Caroline', 5)\n",
      "('Dietmar', 5)\n",
      "('Kristina', 5)\n",
      "('Ralf', 5)\n",
      "('Alwin', 4)\n",
      "('Andrzej', 4)\n",
      "('Anita', 4)\n",
      "('Dierk', 4)\n",
      "('Elli', 4)\n",
      "('Helena', 4)\n"
     ]
    }
   ],
   "source": [
    "cursor.execute(\" SELECT firstname, COUNT(*) AS c FROM students GROUP BY firstname ORDER BY c DESC, firstname ASC LIMIT 10\")\n",
    "print(cursor)\n",
    "for x in  cursor:\n",
    "    print(x)\n",
    "    "
   ]
  },
  {
   "cell_type": "markdown",
   "id": "b20e6e54-4ec6-4c0a-a6a7-96a8865ef9a2",
   "metadata": {},
   "source": [
    "Verbinden der Tabellen Kurse und Studierende / Соединение таблиц курсов и студентов"
   ]
  },
  {
   "cell_type": "code",
   "execution_count": 11,
   "id": "0fcc51b5-0222-4fc0-810b-0dd42e024776",
   "metadata": {
    "tags": []
   },
   "outputs": [
    {
     "name": "stdout",
     "output_type": "stream",
     "text": [
      "CMySQLCursor: SELECT firstname, lastname, courses.titl..\n"
     ]
    }
   ],
   "source": [
    "cursor.execute( \"SELECT firstname, lastname, courses.title FROM students LEFT JOIN courses_students ON students.id = courses_students.student_id LEFT JOIN courses ON courses_students.course_id = courses.id ORDER BY firstname LIMIT 10\" )\n",
    "print(cursor)"
   ]
  },
  {
   "cell_type": "code",
   "execution_count": 12,
   "id": "8f2ad3b7-dc1e-45df-95fb-5ce1713dd3a6",
   "metadata": {
    "tags": []
   },
   "outputs": [
    {
     "name": "stdout",
     "output_type": "stream",
     "text": [
      "('Achim', 'Wilke', 'Diskrete Wahrscheinlichkeitstheorie')\n",
      "('Achim', 'Wilke', 'Interview-Training')\n",
      "('Achim', 'Wilke', 'Datenstrukturen')\n",
      "('Achim', 'Wilke', 'PHP')\n",
      "('Achim', 'Naumann', 'Datenstrukturen')\n",
      "('Adalbert', 'Paul', 'Datenbankoptimierung')\n",
      "('Adalbert', 'Paul', 'Datenstrukturen')\n",
      "('Adalbert', 'Paul', 'Physikalische Simulationen')\n",
      "('Adalbert', 'Paul', 'Webservices')\n",
      "('Adalbert', 'Stock', None)\n"
     ]
    }
   ],
   "source": [
    "for x in cursor:\n",
    "    print(x)"
   ]
  },
  {
   "cell_type": "markdown",
   "id": "f192aee6-876c-485f-b1d0-dfcf5afaaeb4",
   "metadata": {},
   "source": [
    "Durschnittsalter der Studierenden / Средний возраст студентов"
   ]
  },
  {
   "cell_type": "code",
   "execution_count": 13,
   "id": "f431b24e-2479-455c-8df4-af36b1320a53",
   "metadata": {
    "tags": []
   },
   "outputs": [
    {
     "name": "stdout",
     "output_type": "stream",
     "text": [
      "CMySQLCursor: SELECT AVG (age) FROM students\n"
     ]
    }
   ],
   "source": [
    "cursor.execute(\"SELECT AVG (age) FROM students\")\n",
    "print(cursor)"
   ]
  },
  {
   "cell_type": "code",
   "execution_count": 14,
   "id": "a51b167c-cbad-42fa-a4c3-bba205402ecb",
   "metadata": {
    "tags": []
   },
   "outputs": [
    {
     "name": "stdout",
     "output_type": "stream",
     "text": [
      "(Decimal('21.5100'),)\n"
     ]
    }
   ],
   "source": [
    "for x in cursor:\n",
    "    print(x)"
   ]
  },
  {
   "cell_type": "markdown",
   "id": "25c8ac56-354e-4d5c-b744-2eb79dd48726",
   "metadata": {},
   "source": [
    "Wie viele Studierende gibt es die 20 Jahre alt sind? / Сколько студентов в возрасте 20 лет?"
   ]
  },
  {
   "cell_type": "code",
   "execution_count": 15,
   "id": "375fc68f-58f1-45e7-90e6-f4c645258686",
   "metadata": {
    "tags": []
   },
   "outputs": [
    {
     "name": "stdout",
     "output_type": "stream",
     "text": [
      "CMySQLCursor: SELECT COUNT(*) FROM students WHERE age ..\n"
     ]
    }
   ],
   "source": [
    "cursor.execute(\"SELECT COUNT(*) FROM students WHERE age = 20\")\n",
    "print(cursor)"
   ]
  },
  {
   "cell_type": "code",
   "execution_count": 16,
   "id": "b1ca5e2e-8f9c-47bc-bc14-e38c098675a3",
   "metadata": {
    "tags": []
   },
   "outputs": [
    {
     "name": "stdout",
     "output_type": "stream",
     "text": [
      "(128,)\n"
     ]
    }
   ],
   "source": [
    "for x in cursor:\n",
    "    print(x)"
   ]
  },
  {
   "cell_type": "markdown",
   "id": "b8045e01-703f-4e67-9e32-a73d6e216147",
   "metadata": {},
   "source": [
    "Wie alt ist der jüngste studierende? Сколько лет самому младшему студент?"
   ]
  },
  {
   "cell_type": "code",
   "execution_count": 17,
   "id": "3901e9c6-3550-41b0-9c66-336b9874f639",
   "metadata": {
    "tags": []
   },
   "outputs": [
    {
     "name": "stdout",
     "output_type": "stream",
     "text": [
      "CMySQLCursor: SELECT MIN(age) FROM students\n"
     ]
    }
   ],
   "source": [
    "cursor.execute(\"SELECT MIN(age) FROM students\")\n",
    "print(cursor)"
   ]
  },
  {
   "cell_type": "code",
   "execution_count": 18,
   "id": "b2644677-6715-47a9-89bf-a73420258181",
   "metadata": {
    "tags": []
   },
   "outputs": [
    {
     "name": "stdout",
     "output_type": "stream",
     "text": [
      "(19,)\n"
     ]
    }
   ],
   "source": [
    "for x in cursor:\n",
    "    print(x)\n",
    "   "
   ]
  },
  {
   "cell_type": "markdown",
   "id": "4b60177c-612e-4941-90a1-e6fb942b5f8e",
   "metadata": {
    "tags": []
   },
   "source": [
    "Auflisten der studierenden mir dem Vornamen und Alter wo keine Nullwerte vorkommen. / Перечислите учащихся, указав их имена и возраст, где нет нулевых значений."
   ]
  },
  {
   "cell_type": "code",
   "execution_count": 19,
   "id": "91083ef9-7421-4e90-a197-8708192c9220",
   "metadata": {
    "tags": []
   },
   "outputs": [],
   "source": [
    "cursor.execute(\"SELECT firstname, age FROM students WHERE age IS NOT NULL LIMIT 7\")\n",
    "result = cursor.fetchall\n",
    "\n"
   ]
  },
  {
   "cell_type": "code",
   "execution_count": 20,
   "id": "2212843b-ac73-4a35-ba85-d00b12ff29d4",
   "metadata": {
    "tags": []
   },
   "outputs": [
    {
     "name": "stdout",
     "output_type": "stream",
     "text": [
      "Name of Students =  ['Renate', 'Helena', 'Karoline', 'Franz Josef', 'Tim', 'Sonja', 'Fridolin']\n",
      "Age of Students =  [23, 24, 19, 24, 22, 23, 21]\n"
     ]
    },
    {
     "data": {
      "image/png": "[encoded data removed]",
      "text/plain": [
       "<Figure size 640x480 with 1 Axes>"
      ]
     },
     "metadata": {},
     "output_type": "display_data"
    }
   ],
   "source": [
    "firstname = []\n",
    "age=[]\n",
    "\n",
    "for x in cursor:\n",
    "    firstname.append(x[0])\n",
    "    age.append(x[1])\n",
    "     \n",
    "print(\"Name of Students = \", firstname)\n",
    "print(\"Age of Students = \", age)\n",
    "  \n",
    " \n",
    "# Визуализация данных с использованием Matplotlib\n",
    "plt.bar(firstname, age)\n",
    "plt.ylim(0, 40)\n",
    "plt.xlabel(\"Name of Students\")\n",
    "plt.ylabel(\"Age of Students\")\n",
    "plt.title(\"Student's Information\")\n",
    "plt.show()"
   ]
  },
  {
   "cell_type": "code",
   "execution_count": 21,
   "id": "ab6a2ff9-3469-4426-9926-f1bb37b8911d",
   "metadata": {
    "tags": []
   },
   "outputs": [
    {
     "data": {
      "text/plain": [
       "True"
      ]
     },
     "execution_count": 21,
     "metadata": {},
     "output_type": "execute_result"
    }
   ],
   "source": [
    "cursor.close()"
   ]
  },
  {
   "cell_type": "code",
   "execution_count": null,
   "id": "a1d28aeb-14ca-4c4a-9f7d-8716842f8d74",
   "metadata": {},
   "outputs": [],
   "source": []
  }
 ],
 "metadata": {
  "kernelspec": {
   "display_name": "Python 3 (ipykernel)",
   "language": "python",
   "name": "python3"
  },
  "language_info": {
   "codemirror_mode": {
    "name": "ipython",
    "version": 3
   },
   "file_extension": ".py",
   "mimetype": "text/x-python",
   "name": "python",
   "nbconvert_exporter": "python",
   "pygments_lexer": "ipython3",
   "version": "3.11.4"
  }
 },
 "nbformat": 4,
 "nbformat_minor": 5
}
